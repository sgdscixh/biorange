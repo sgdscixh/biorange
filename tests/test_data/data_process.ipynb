{
 "cells": [
  {
   "cell_type": "code",
   "execution_count": 4,
   "metadata": {},
   "outputs": [],
   "source": [
    "import pandas as pd\n",
    "hh = pd.read_csv(\"/home/liuyan/projects/package/biorange/biorange/data/TCM_NGM__ADMET.csv\")\n",
    "mm = hh.iloc[:,:3]\n",
    "mm.to_csv(\"./TCM_NGM_inchike_isosmile_11294.csv\",index=False)"
   ]
  }
 ],
 "metadata": {
  "kernelspec": {
   "display_name": ".venv",
   "language": "python",
   "name": "python3"
  },
  "language_info": {
   "codemirror_mode": {
    "name": "ipython",
    "version": 3
   },
   "file_extension": ".py",
   "mimetype": "text/x-python",
   "name": "python",
   "nbconvert_exporter": "python",
   "pygments_lexer": "ipython3",
   "version": "3.12.2"
  }
 },
 "nbformat": 4,
 "nbformat_minor": 2
}
