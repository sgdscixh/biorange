{
 "cells": [
  {
   "cell_type": "code",
   "execution_count": 3,
   "metadata": {},
   "outputs": [
    {
     "name": "stdout",
     "output_type": "stream",
     "text": [
      "['flat_chemical_id', 'stereo_chemical_id', 'source_cid', 'inchikey']\n",
      "['CIDm00000001', 'CIDs00000001', '1', 'RDHQFKQIGNGIED-UHFFFAOYSA-N']\n",
      "['CIDm00100004', 'CIDs00100004', '100004', 'RLAKWLFUMAABBE-UHFFFAOYSA-N']\n",
      "['CIDm00100005', 'CIDs00100005', '100005', 'RFYNAVYPYXLVOM-UHFFFAOYSA-N']\n",
      "['CIDm10001388', 'CIDs10001388', '10001388', 'HTAZIHDXIUPDQP-UHFFFAOYSA-N']\n",
      "['CIDm10001497', 'CIDs10001497', '10001497', 'QUBRRXBPXPHDJO-UHFFFAOYSA-N']\n",
      "['CIDm00100018', 'CIDs00100018', '100018', 'JDCPEKQWFDWQLI-UHFFFAOYSA-N']\n",
      "['CIDm00100021', 'CIDs00100021', '100021', 'FJCWYLRNGKSUCH-UHFFFAOYSA-N']\n",
      "['CIDm00159516', 'CIDs10004662', '10004662', 'JFACETXYABVHFD-RKHSXEAASA-N']\n",
      "['CIDm00100058', 'CIDs00100058', '100058', 'XJMPAUZQVRGFRE-UHFFFAOYSA-N']\n"
     ]
    }
   ],
   "source": [
    "#gz文件读取函数\n",
    "import gzip\n",
    "import itertools\n",
    "\n",
    "def read_first_n_lines(file_path, num_lines):\n",
    "    with gzip.open(file_path, 'rt') as f:\n",
    "        # 使用 islice 高效地读取前 num_lines 行\n",
    "        for line in itertools.islice(f, num_lines):\n",
    "            print(line.strip().split('\\t'))\n",
    "\n",
    "# # 使用示例\n",
    "file_path = '/home/liuyan/projects/package/biorange/biorange/data/TCMSP_NGM_STITCH_INCHIKEY.tsv.gz'\n",
    "num_lines = 10\n",
    "read_first_n_lines(file_path, num_lines)"
   ]
  },
  {
   "cell_type": "code",
   "execution_count": 4,
   "metadata": {},
   "outputs": [
    {
     "name": "stdout",
     "output_type": "stream",
     "text": [
      "['chemical', 'protein', 'experimental_direct', 'experimental_transferred', 'prediction_direct', 'prediction_transferred', 'database_direct', 'database_transferred', 'textmining_direct', 'textmining_transferred', 'combined_score']\n",
      "['CIDm91758680', '9606.ENSP00000257254', '0', '0', '0', '0', '0', '0', '109', '214', '279']\n",
      "['CIDm91758680', '9606.ENSP00000302120', '0', '0', '0', '0', '0', '0', '154', '0', '154']\n",
      "['CIDm91758408', '9606.ENSP00000006777', '0', '0', '0', '0', '0', '0', '0', '225', '225']\n",
      "['CIDm91758408', '9606.ENSP00000056217', '0', '0', '0', '0', '0', '0', '0', '178', '178']\n",
      "['CIDm91758408', '9606.ENSP00000216085', '0', '0', '0', '0', '0', '0', '0', '225', '225']\n",
      "['CIDm91758408', '9606.ENSP00000221740', '0', '0', '0', '0', '0', '0', '0', '151', '151']\n",
      "['CIDm91758408', '9606.ENSP00000235329', '0', '0', '0', '0', '0', '0', '0', '162', '162']\n",
      "['CIDm91758408', '9606.ENSP00000259791', '0', '0', '0', '0', '0', '0', '0', '194', '194']\n",
      "['CIDm91758408', '9606.ENSP00000262366', '0', '0', '0', '0', '0', '0', '169', '0', '169']\n"
     ]
    }
   ],
   "source": [
    "# # 使用示例\n",
    "file_path = '/home/liuyan/projects/package/biorange/biorange/data/9606.protein_chemical.links.transfer.v5.0.tsv.gz'\n",
    "num_lines = 10\n",
    "read_first_n_lines(file_path, num_lines)"
   ]
  },
  {
   "cell_type": "code",
   "execution_count": 5,
   "metadata": {},
   "outputs": [
    {
     "name": "stdout",
     "output_type": "stream",
     "text": [
      "No gene name found for 9606.ENSP00000218075 in homo_sapiens\n"
     ]
    }
   ],
   "source": [
    "#带点格式转ensembl\n",
    "import requests\n",
    "\n",
    "def ensp_to_gene_name(ensp_id, species):\n",
    "    # 分割ENSPid\n",
    "    ensp = ensp_id.split('.')[1]\n",
    "\n",
    "    # 构建查询URL\n",
    "    url = f\"https://rest.ensembl.org/xrefs/id/{ensp}?content-type=application/json;species={species}\"\n",
    "\n",
    "    # 发送请求\n",
    "    response = requests.get(url)\n",
    "\n",
    "    # 检查请求是否成功\n",
    "    if response.status_code != 200:\n",
    "        raise Exception(\"Failed to retrieve data from Ensembl API\")\n",
    "\n",
    "    # 解析JSON响应\n",
    "    data = response.json()\n",
    "\n",
    "    # 查找基因名称\n",
    "    for entry in data:\n",
    "        if entry['dbname'] == 'HGNC':\n",
    "            return entry['display_id']\n",
    "\n",
    "    # 如果没有找到匹配的基因名称\n",
    "    return None\n",
    "\n",
    "# 示例使用\n",
    "ensp_id = \"9606.ENSP00000218075\"\n",
    "species = \"homo_sapiens\"  # 物种，例如人类为\"homo_sapiens\"\n",
    "gene_name = ensp_to_gene_name(ensp_id, species)\n",
    "if gene_name:\n",
    "    print(f\"The gene name for {ensp_id} in {species} is {gene_name}\")\n",
    "else:\n",
    "    print(f\"No gene name found for {ensp_id} in {species}\")"
   ]
  }
 ],
 "metadata": {
  "kernelspec": {
   "display_name": ".venv",
   "language": "python",
   "name": "python3"
  },
  "language_info": {
   "codemirror_mode": {
    "name": "ipython",
    "version": 3
   },
   "file_extension": ".py",
   "mimetype": "text/x-python",
   "name": "python",
   "nbconvert_exporter": "python",
   "pygments_lexer": "ipython3",
   "version": "3.12.2"
  }
 },
 "nbformat": 4,
 "nbformat_minor": 2
}
