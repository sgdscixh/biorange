{
 "cells": [
  {
   "cell_type": "code",
   "execution_count": 1,
   "metadata": {},
   "outputs": [],
   "source": [
    "#删除重复行\n",
    "import pandas as pd\n",
    "\n",
    "def remove_duplicate_rows(input_csv, output_csv):\n",
    "    # 读取CSV文件\n",
    "    df = pd.read_csv(input_csv)\n",
    "\n",
    "    # 删除完全重复的行\n",
    "    df_unique = df.drop_duplicates()\n",
    "\n",
    "    # 将结果保存到一个新的CSV文件\n",
    "    df_unique.to_csv(output_csv, index=False)\n",
    "\n"
   ]
  },
  {
   "cell_type": "code",
   "execution_count": 6,
   "metadata": {},
   "outputs": [],
   "source": [
    "# 示例用法\n",
    "input_csv = '/home/liuyan/projects/package/biorange/results/output2/stitch_target_raw_yj.csv'  # 输入的CSV文件路径\n",
    "output_csv = '/home/liuyan/projects/package/biorange/results/output2/stitch_target_raw_yj_d.csv'  # 输出的CSV文件路径\n",
    "\n",
    "remove_duplicate_rows(input_csv, output_csv)"
   ]
  },
  {
   "cell_type": "code",
   "execution_count": 9,
   "metadata": {},
   "outputs": [],
   "source": [
    "#合并多个数据表\n",
    "import pandas as pd\n",
    "\n",
    "def merge_csv_files(file_info, output_csv):\n",
    "    \"\"\"\n",
    "    将多个CSV文件整合到一个表格中，并添加数据来源列。\n",
    "\n",
    "    :param file_info: 一个包含文件路径和对应数据来源名的列表，格式为 [(file_path, source_name), ...]\n",
    "    :param output_csv: 输出的CSV文件路径\n",
    "    \"\"\"\n",
    "    dfs = []\n",
    "\n",
    "    for file_path, source_name in file_info:\n",
    "        # 读取CSV文件\n",
    "        df = pd.read_csv(file_path)\n",
    "\n",
    "        # 添加数据来源列\n",
    "        df['source'] = source_name\n",
    "\n",
    "        # 将当前DataFrame添加到列表中\n",
    "        dfs.append(df)\n",
    "\n",
    "    # 将所有DataFrame整合到一个表格中\n",
    "    merged_df = pd.concat(dfs, ignore_index=True)\n",
    "\n",
    "    # 将结果保存到一个新的CSV文件中\n",
    "    merged_df.to_csv(output_csv, index=False)\n",
    "\n",
    "# 示例用法\n",
    "file_info = [\n",
    "\n",
    "    ('/home/liuyan/projects/package/biorange/results/output2/tcmsp_output_target_scp.csv', '石菖蒲'),\n",
    "    ('/home/liuyan/projects/package/biorange/results/output2/tcmsp_output_target_yj.csv','郁金'),\n",
    "    ('/home/liuyan/projects/package/biorange/results/output2/tcmsp_output_target_hh.csv', '红花'),\n",
    "    ('/home/liuyan/projects/package/biorange/results/output2/tcmsp_output_target_ds.csv', '丹参'),\n",
    "]\n",
    "\n",
    "output_csv = 'tcmsp_target_merged_output.csv'\n",
    "\n",
    "merge_csv_files(file_info, output_csv)"
   ]
  }
 ],
 "metadata": {
  "kernelspec": {
   "display_name": ".venv",
   "language": "python",
   "name": "python3"
  },
  "language_info": {
   "codemirror_mode": {
    "name": "ipython",
    "version": 3
   },
   "file_extension": ".py",
   "mimetype": "text/x-python",
   "name": "python",
   "nbconvert_exporter": "python",
   "pygments_lexer": "ipython3",
   "version": "3.12.2"
  }
 },
 "nbformat": 4,
 "nbformat_minor": 2
}
