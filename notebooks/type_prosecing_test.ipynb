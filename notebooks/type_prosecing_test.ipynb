{
 "cells": [
  {
   "cell_type": "code",
   "execution_count": 2,
   "metadata": {},
   "outputs": [],
   "source": [
    "from biorange.ppi import ppi_final\n",
    "import pandas as pd"
   ]
  },
  {
   "cell_type": "code",
   "execution_count": 5,
   "metadata": {},
   "outputs": [
    {
     "name": "stdout",
     "output_type": "stream",
     "text": [
      "   gene_name                                             term\n",
      "0     CDKN1A  Kaposi sarcoma-associated herpesvirus infection\n",
      "0      IFNB1  Kaposi sarcoma-associated herpesvirus infection\n",
      "0        FOS  Kaposi sarcoma-associated herpesvirus infection\n",
      "0      PTGS2  Kaposi sarcoma-associated herpesvirus infection\n",
      "0       FGF2  Kaposi sarcoma-associated herpesvirus infection\n",
      "..       ...                                              ...\n",
      "14       LEP                  Adipocytokine signaling pathway\n",
      "14       NPY                  Adipocytokine signaling pathway\n",
      "14      LEPR                  Adipocytokine signaling pathway\n",
      "14       TNF                  Adipocytokine signaling pathway\n",
      "14      RELA                  Adipocytokine signaling pathway\n",
      "\n",
      "[156 rows x 2 columns]\n"
     ]
    }
   ],
   "source": [
    "#预处理kegg数据,将基因名展开\n",
    "import pandas as pd\n",
    "# 读取数据\n",
    "kegg_df = pd.read_csv('/home/liuyan/projects/package/biorange/notebooks/kegg_test.csv')\n",
    "\n",
    "# 展开'gene'列\n",
    "kegg_df['gene_name'] = kegg_df['gene_name'].str.split(';')\n",
    "kegg_df_exploded = kegg_df.explode('gene_name')\n",
    "\n",
    "# 保存结果\n",
    "# df_exploded.to_csv('expanded_kegg_file.csv', index=False)\n",
    "kegg_gene=kegg_df_exploded[['gene_name','term']]\n",
    "print(kegg_gene)"
   ]
  },
  {
   "cell_type": "code",
   "execution_count": 8,
   "metadata": {},
   "outputs": [
    {
     "name": "stdout",
     "output_type": "stream",
     "text": [
      "    preferredName_A preferredName_B\n",
      "0               IL2            NOS3\n",
      "1               IL2           PTPN2\n",
      "2               IL2           IKBKB\n",
      "3               IL2           CREB1\n",
      "4               IL2            BDNF\n",
      "..              ...             ...\n",
      "287            IL10           IKBKB\n",
      "288            IL10            BDNF\n",
      "289            IL10           HIF1A\n",
      "290            BDNF           HIF1A\n",
      "291           IKBKB           HIF1A\n",
      "\n",
      "[292 rows x 2 columns]\n"
     ]
    }
   ],
   "source": [
    "def get_ppi_relationships(gene_names, species_id=9606):\n",
    "    data = ppi_final.fetch_ppi_data(gene_names, species_id)\n",
    "    if data is None:\n",
    "        return None\n",
    "\n",
    "    nodes = ppi_final.parse_interaction_data(data)\n",
    "    if nodes is None:\n",
    "        return None\n",
    "\n",
    "    return nodes\n",
    "gene_interaction=get_ppi_relationships(kegg_gene['gene_name'])\n",
    "print(gene_interaction)"
   ]
  },
  {
   "cell_type": "code",
   "execution_count": null,
   "metadata": {},
   "outputs": [],
   "source": [
    "# 寻找kegg_gene中['gene']对应的成分名\n",
    "#将三个数据库的结果收集起来，合并为一个数据，再和含有成分名表进行合并\n",
    "kegg_ingredient = []"
   ]
  },
  {
   "cell_type": "code",
   "execution_count": null,
   "metadata": {},
   "outputs": [],
   "source": [
    "import pandas as pd\n",
    "\n",
    "def generate_files(kegg_gene, kegg_ingredient, gene_interaction):\n",
    "    # 生成 node_file\n",
    "    node_file_df = pd.concat([\n",
    "        kegg_gene[['gene', 'term']].rename(columns={'gene': 'node1', 'term': 'node2'}),\n",
    "        kegg_ingredient[['gene', 'ingredient_name']].rename(columns={'gene': 'node1', 'ingredient_name': 'node2'}),\n",
    "        gene_interaction[['preferredName_A', 'preferredName_B']].rename(columns={'preferredName_A': 'node1', 'preferredName_B': 'node2'}),\n",
    "    ], ignore_index=True)\n",
    "    print(node_file_df)\n",
    "\n",
    "    # 生成 type_file\n",
    "    type_file_df = pd.concat([\n",
    "        kegg_gene[['term']].rename(columns={'term': 'node'}),\n",
    "        kegg_gene[['gene']].rename(columns={'gene': 'node'}),\n",
    "        kegg_ingredient[['ingredient_name']].rename(columns={'ingredient_name': 'node'}),\n",
    "    ])\n",
    "\n",
    "    type_file_df['type'] = ['pathway'] * len(kegg_gene) + ['ingredient_name'] * len(kegg_ingredient) + ['gene'] * len(kegg_gene)\n",
    "    type_file_df = type_file_df.drop_duplicates()\n",
    "    print(type_file_df)\n",
    "\n",
    "    return node_file_df, type_file_df\n",
    "\n",
    "# 调用函数并传递数据\n",
    "node_file_df, type_file_df = generate_files(kegg_gene, kegg_ingredient, gene_interaction)"
   ]
  },
  {
   "cell_type": "code",
   "execution_count": 1,
   "metadata": {},
   "outputs": [
    {
     "ename": "NameError",
     "evalue": "name 'pd' is not defined",
     "output_type": "error",
     "traceback": [
      "\u001b[0;31m---------------------------------------------------------------------------\u001b[0m",
      "\u001b[0;31mNameError\u001b[0m                                 Traceback (most recent call last)",
      "Cell \u001b[0;32mIn[1], line 4\u001b[0m\n\u001b[1;32m      1\u001b[0m \u001b[38;5;66;03m#生成node和Type文件\u001b[39;00m\n\u001b[1;32m      2\u001b[0m \n\u001b[1;32m      3\u001b[0m \u001b[38;5;66;03m# 生成node_file\u001b[39;00m\n\u001b[0;32m----> 4\u001b[0m node_file_df \u001b[38;5;241m=\u001b[39m \u001b[43mpd\u001b[49m\u001b[38;5;241m.\u001b[39mconcat([\n\u001b[1;32m      5\u001b[0m     kegg_gene[[\u001b[38;5;124m'\u001b[39m\u001b[38;5;124mgene\u001b[39m\u001b[38;5;124m'\u001b[39m,\u001b[38;5;124m'\u001b[39m\u001b[38;5;124mterm\u001b[39m\u001b[38;5;124m'\u001b[39m]]\u001b[38;5;241m.\u001b[39mrename(columns\u001b[38;5;241m=\u001b[39m{\u001b[38;5;124m'\u001b[39m\u001b[38;5;124mgene\u001b[39m\u001b[38;5;124m'\u001b[39m: \u001b[38;5;124m'\u001b[39m\u001b[38;5;124mnode1\u001b[39m\u001b[38;5;124m'\u001b[39m, \u001b[38;5;124m'\u001b[39m\u001b[38;5;124mterm\u001b[39m\u001b[38;5;124m'\u001b[39m: \u001b[38;5;124m'\u001b[39m\u001b[38;5;124mnode2\u001b[39m\u001b[38;5;124m'\u001b[39m}),\n\u001b[1;32m      6\u001b[0m     kegg_ingredient[[\u001b[38;5;124m'\u001b[39m\u001b[38;5;124mgene\u001b[39m\u001b[38;5;124m'\u001b[39m, \u001b[38;5;124m'\u001b[39m\u001b[38;5;124mingredient_name\u001b[39m\u001b[38;5;124m'\u001b[39m]]\u001b[38;5;241m.\u001b[39mrename(columns\u001b[38;5;241m=\u001b[39m{\u001b[38;5;124m'\u001b[39m\u001b[38;5;124mgene\u001b[39m\u001b[38;5;124m'\u001b[39m: \u001b[38;5;124m'\u001b[39m\u001b[38;5;124mnode1\u001b[39m\u001b[38;5;124m'\u001b[39m, \u001b[38;5;124m'\u001b[39m\u001b[38;5;124mingredient_name\u001b[39m\u001b[38;5;124m'\u001b[39m: \u001b[38;5;124m'\u001b[39m\u001b[38;5;124mnode2\u001b[39m\u001b[38;5;124m'\u001b[39m}),\n\u001b[1;32m      7\u001b[0m     gene_interaction[[\u001b[38;5;124m'\u001b[39m\u001b[38;5;124mpreferredName_A\u001b[39m\u001b[38;5;124m'\u001b[39m,\u001b[38;5;124m'\u001b[39m\u001b[38;5;124mpreferredName_B\u001b[39m\u001b[38;5;124m'\u001b[39m]]\u001b[38;5;241m.\u001b[39mrename(columns\u001b[38;5;241m=\u001b[39m{\u001b[38;5;124m'\u001b[39m\u001b[38;5;124mpreferredName_A\u001b[39m\u001b[38;5;124m'\u001b[39m: \u001b[38;5;124m'\u001b[39m\u001b[38;5;124mnode1\u001b[39m\u001b[38;5;124m'\u001b[39m, \u001b[38;5;124m'\u001b[39m\u001b[38;5;124mpreferredName_B\u001b[39m\u001b[38;5;124m'\u001b[39m: \u001b[38;5;124m'\u001b[39m\u001b[38;5;124mnode2\u001b[39m\u001b[38;5;124m'\u001b[39m}),\n\u001b[1;32m      8\u001b[0m ], ignore_index\u001b[38;5;241m=\u001b[39m\u001b[38;5;28;01mTrue\u001b[39;00m)\n\u001b[1;32m      9\u001b[0m \u001b[38;5;28mprint\u001b[39m(node_file_df)\n\u001b[1;32m     11\u001b[0m \u001b[38;5;66;03m#生成type_file\u001b[39;00m\n",
      "\u001b[0;31mNameError\u001b[0m: name 'pd' is not defined"
     ]
    }
   ],
   "source": [
    "#生成node和Type文件\n",
    "\n",
    "# 生成node_file\n",
    "node_file_df = pd.concat([\n",
    "    kegg_gene[['gene','term']].rename(columns={'gene': 'node1', 'term': 'node2'}),\n",
    "    kegg_ingredient[['gene', 'ingredient_name']].rename(columns={'gene': 'node1', 'ingredient_name': 'node2'}),\n",
    "    gene_interaction[['preferredName_A','preferredName_B']].rename(columns={'preferredName_A': 'node1', 'preferredName_B': 'node2'}),\n",
    "], ignore_index=True)\n",
    "print(node_file_df)\n",
    "\n",
    "#生成type_file\n",
    "type_file_df = pd.concat([\n",
    "    kegg_gene[['term']].rename(columns={'term': 'node'}),\n",
    "    kegg_gene[['gene']].rename(columns={'gene': 'node'}),\n",
    "    kegg_ingredient[['ingredient_name']].rename(columns={'ingredient_name': 'node'}),\n",
    "])\n",
    "\n",
    "type_file_df['type'] = ['pathway'] * len(kegg_gene) + ['ingredient_name'] * len(kegg_ingredient) + ['gene'] * len(kegg_gene)\n",
    "type_file_df = type_file_df.drop_duplicates()\n",
    "print(type_file_df)\n",
    "# 输出结果到文件\n",
    "node_file_df.to_csv('node_file.txt', sep='\\t', index=False)\n",
    "type_file_df.to_csv('type_file.txt', sep='\\t', index=False)"
   ]
  },
  {
   "cell_type": "code",
   "execution_count": 24,
   "metadata": {},
   "outputs": [
    {
     "name": "stdout",
     "output_type": "stream",
     "text": [
      "     preferredName_A preferredName_B\n",
      "0               CFTR           BRCA1\n",
      "1               CFTR            EGFR\n",
      "2               CFTR            KRAS\n",
      "3               CFTR            TP53\n",
      "4               CFTR           CHEK2\n",
      "...              ...             ...\n",
      "1643             MYC          HNRNPU\n",
      "1644             MYC          NOTCH1\n",
      "1645             MYC          CTNNB1\n",
      "1646           RAD51           MUTYH\n",
      "1647          CTNNB1          NOTCH1\n",
      "\n",
      "[1648 rows x 2 columns]\n"
     ]
    }
   ],
   "source": [
    " # 输入示例\n",
    "gene_names_file = \"/home/liuyan/projects/package/biorange/biorange/data/shared targets.csv\"\n",
    "gene_names = pd.read_csv(gene_names_file)[\"shared_targets\"]\n",
    "# output_dir = \"./\"\n",
    "# 只获取ppi节点关系表\n",
    "gg = get_ppi_relationships(gene_names)\n",
    "print(gg)"
   ]
  }
 ],
 "metadata": {
  "kernelspec": {
   "display_name": ".venv",
   "language": "python",
   "name": "python3"
  },
  "language_info": {
   "codemirror_mode": {
    "name": "ipython",
    "version": 3
   },
   "file_extension": ".py",
   "mimetype": "text/x-python",
   "name": "python",
   "nbconvert_exporter": "python",
   "pygments_lexer": "ipython3",
   "version": "3.12.2"
  }
 },
 "nbformat": 4,
 "nbformat_minor": 2
}
